{
  "cells": [
    {
      "cell_type": "code",
      "execution_count": null,
      "metadata": {
        "id": "VxfDd-ejnIBV"
      },
      "outputs": [],
      "source": [
        "# allows for reading data from my google drive\n",
        "from google.colab import drive\n",
        "drive.mount('/content/drive/')"
      ]
    },
    {
      "cell_type": "code",
      "execution_count": null,
      "metadata": {
        "id": "yNDsdQIqn42h"
      },
      "outputs": [],
      "source": [
        "import os\n",
        "os.chdir('/content/drive/MyDrive')"
      ]
    },
    {
      "cell_type": "code",
      "execution_count": null,
      "metadata": {
        "id": "QTuaPPySoAXX"
      },
      "outputs": [],
      "source": [
        "# ensuring we are in the correct directory (my google drive)\n",
        "!ls"
      ]
    },
    {
      "cell_type": "code",
      "execution_count": null,
      "metadata": {
        "id": "rRU7pC5Ho7qF"
      },
      "outputs": [],
      "source": [
        "import re\n",
        "import pandas as pd"
      ]
    },
    {
      "cell_type": "code",
      "execution_count": null,
      "metadata": {
        "id": "umCF6nPNpAQW"
      },
      "outputs": [],
      "source": [
        "reg_exp = r'([A-Za-z]+):(.+)'"
      ]
    },
    {
      "cell_type": "code",
      "execution_count": null,
      "metadata": {
        "id": "oFLRm9YFrMt8"
      },
      "outputs": [],
      "source": [
        "# data frame to store our transcripts in organized fashion\n",
        "data = {\n",
        "    'name': [],\n",
        "    'dialog': []\n",
        "}"
      ]
    },
    {
      "cell_type": "code",
      "execution_count": null,
      "metadata": {
        "id": "eZDf7uJyrfHw"
      },
      "outputs": [],
      "source": [
        "# open and read the file\n",
        "with open('spongebob dialog.txt', 'rt') as file:\n",
        "  # for each line match with regexp\n",
        "  for line in file.readlines():\n",
        "    found_match = re.findall(reg_exp, line)\n",
        "    # text was captured in desired format\n",
        "    if len(found_match) > 0:\n",
        "      # note found match returns array\n",
        "      name, dialog = found_match[0]\n",
        "      data['dialog'].append(dialog)\n",
        "      data['name'].append(name)\n"
      ]
    },
    {
      "cell_type": "code",
      "execution_count": null,
      "metadata": {
        "id": "ixVn6J6ZtH1O"
      },
      "outputs": [],
      "source": [
        "# convert this dictionary into a data frame\n",
        "data_frame = pd.DataFrame(data)"
      ]
    },
    {
      "cell_type": "code",
      "execution_count": null,
      "metadata": {
        "id": "ZRQKGnGXtSYB"
      },
      "outputs": [],
      "source": [
        "# inspecting the dataframe to make sure everything looks correct\n",
        "data_frame.head()"
      ]
    },
    {
      "cell_type": "code",
      "source": [
        "# counting number of lines belonging to spongebob\n",
        "sponge_lines = sum(data_frame['name'] == 'SpongeBob') + sum(data_frame['name'] == 'Spongebob') + sum(data_frame['name'] == 'spongeBob')"
      ],
      "metadata": {
        "id": "ZRUSqcjqvGjj"
      },
      "execution_count": null,
      "outputs": []
    },
    {
      "cell_type": "code",
      "source": [
        "# represnts how many of the lines belong to spongebob, ~0.377 which is good\n",
        "proportion = sponge_lines / len(data_frame)\n",
        "\n",
        "# convert to csv file, raw transcipt not compatable for model training, need csv for this training\n",
        "data_frame.to_csv('Spongebob.csv', index = False)"
      ],
      "metadata": {
        "id": "XegL8kgnvnWG"
      },
      "execution_count": null,
      "outputs": []
    }
  ],
  "metadata": {
    "colab": {
      "name": "dialog_parse.ipynb",
      "provenance": [],
      "authorship_tag": "ABX9TyOjXrJ3F5L7wXiLvNPOjK+2"
    },
    "kernelspec": {
      "display_name": "Python 3",
      "name": "python3"
    },
    "language_info": {
      "name": "python"
    }
  },
  "nbformat": 4,
  "nbformat_minor": 0
}